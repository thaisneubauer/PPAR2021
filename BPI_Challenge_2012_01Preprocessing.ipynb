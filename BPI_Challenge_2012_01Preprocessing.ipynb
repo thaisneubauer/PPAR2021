{
  "nbformat": 4,
  "nbformat_minor": 0,
  "metadata": {
    "colab": {
      "name": "BPI Challenge 2012 - 01Preprocessing",
      "provenance": [],
      "collapsed_sections": [
        "M7XjnYKZrOwC",
        "IDrtewSlrSg4",
        "OSsSstFMrb1l",
        "uy3JRbqhAOA5",
        "LOu3qIEYQ4x7"
      ],
      "authorship_tag": "ABX9TyMcVxDlBVXr66w/QzBkYk/d",
      "include_colab_link": true
    },
    "kernelspec": {
      "name": "python3",
      "display_name": "Python 3"
    },
    "language_info": {
      "name": "python"
    }
  },
  "cells": [
    {
      "cell_type": "markdown",
      "metadata": {
        "id": "view-in-github",
        "colab_type": "text"
      },
      "source": [
        "<a href=\"https://colab.research.google.com/github/thaisneubauer/PPAR2021/blob/main/BPI_Challenge_2012_01Preprocessing.ipynb\" target=\"_parent\"><img src=\"https://colab.research.google.com/assets/colab-badge.svg\" alt=\"Open In Colab\"/></a>"
      ]
    },
    {
      "cell_type": "markdown",
      "metadata": {
        "id": "ThOj6kAg16Bl"
      },
      "source": [
        "[BPI Challenge 2012](https://www.win.tue.nl/bpi/doku.php?id=2012:challenge)"
      ]
    },
    {
      "cell_type": "markdown",
      "metadata": {
        "id": "Ay5pWhdOrLX2"
      },
      "source": [
        "# Inicialização do ambiente"
      ]
    },
    {
      "cell_type": "markdown",
      "metadata": {
        "id": "M7XjnYKZrOwC"
      },
      "source": [
        "## Importando bibliotecas"
      ]
    },
    {
      "cell_type": "code",
      "metadata": {
        "id": "bioDG4JOkhDI"
      },
      "source": [
        "import numpy as np\n",
        "import pandas as pd"
      ],
      "execution_count": null,
      "outputs": []
    },
    {
      "cell_type": "markdown",
      "metadata": {
        "id": "IDrtewSlrSg4"
      },
      "source": [
        "## Carregando os dados"
      ]
    },
    {
      "cell_type": "code",
      "metadata": {
        "id": "jfxsdumH1kJK",
        "colab": {
          "base_uri": "https://localhost:8080/"
        },
        "outputId": "30ed5011-f558-4149-e9fe-b79d83c9f130"
      },
      "source": [
        "from google_drive_downloader import GoogleDriveDownloader as gdd\n",
        "\n",
        "google_id = \"1wWxY2N737gjof4FQkTnaBAQaQu8_4g6L\"\n",
        "gdd.download_file_from_google_drive(file_id=google_id, \n",
        "                                    dest_path = './data.csv', \n",
        "                                    showsize = True)\n",
        "log = pd.read_csv(\"data.csv\")"
      ],
      "execution_count": null,
      "outputs": [
        {
          "output_type": "stream",
          "text": [
            "Downloading 1wWxY2N737gjof4FQkTnaBAQaQu8_4g6L into ./data.csv... \n",
            "21.2 MiB Done.\n"
          ],
          "name": "stdout"
        }
      ]
    },
    {
      "cell_type": "code",
      "metadata": {
        "colab": {
          "base_uri": "https://localhost:8080/",
          "height": 542
        },
        "id": "PnjvSuUd2hJW",
        "outputId": "9b0c1412-55a6-488c-de17-ad3e5a87cbbd"
      },
      "source": [
        "log.sample(10)"
      ],
      "execution_count": null,
      "outputs": [
        {
          "output_type": "execute_result",
          "data": {
            "text/html": [
              "<div>\n",
              "<style scoped>\n",
              "    .dataframe tbody tr th:only-of-type {\n",
              "        vertical-align: middle;\n",
              "    }\n",
              "\n",
              "    .dataframe tbody tr th {\n",
              "        vertical-align: top;\n",
              "    }\n",
              "\n",
              "    .dataframe thead th {\n",
              "        text-align: right;\n",
              "    }\n",
              "</style>\n",
              "<table border=\"1\" class=\"dataframe\">\n",
              "  <thead>\n",
              "    <tr style=\"text-align: right;\">\n",
              "      <th></th>\n",
              "      <th>Case ID</th>\n",
              "      <th>Activity</th>\n",
              "      <th>AMOUNT_REQ</th>\n",
              "      <th>REG_DATE</th>\n",
              "      <th>org:resource</th>\n",
              "      <th>lifecycle:transition</th>\n",
              "      <th>time:timestamp</th>\n",
              "    </tr>\n",
              "  </thead>\n",
              "  <tbody>\n",
              "    <tr>\n",
              "      <th>37198</th>\n",
              "      <td>179272</td>\n",
              "      <td>W_Valideren aanvraag</td>\n",
              "      <td>5000</td>\n",
              "      <td>23/10/2011 18:14:20</td>\n",
              "      <td>10609.0</td>\n",
              "      <td>COMPLETE</td>\n",
              "      <td>01/11/2011 10:04:14</td>\n",
              "    </tr>\n",
              "    <tr>\n",
              "      <th>119328</th>\n",
              "      <td>192401</td>\n",
              "      <td>W_Completeren aanvraag</td>\n",
              "      <td>5000</td>\n",
              "      <td>09/12/2011 12:36:54</td>\n",
              "      <td>10939.0</td>\n",
              "      <td>SCHEDULE</td>\n",
              "      <td>09/12/2011 12:53:53</td>\n",
              "    </tr>\n",
              "    <tr>\n",
              "      <th>155488</th>\n",
              "      <td>197626</td>\n",
              "      <td>A_PARTLYSUBMITTED</td>\n",
              "      <td>3000</td>\n",
              "      <td>03/01/2012 17:10:08</td>\n",
              "      <td>112.0</td>\n",
              "      <td>COMPLETE</td>\n",
              "      <td>03/01/2012 17:10:08</td>\n",
              "    </tr>\n",
              "    <tr>\n",
              "      <th>145187</th>\n",
              "      <td>196267</td>\n",
              "      <td>W_Beoordelen fraude</td>\n",
              "      <td>15000</td>\n",
              "      <td>28/12/2011 22:55:49</td>\n",
              "      <td>10188.0</td>\n",
              "      <td>START</td>\n",
              "      <td>10/01/2012 13:47:29</td>\n",
              "    </tr>\n",
              "    <tr>\n",
              "      <th>233520</th>\n",
              "      <td>209335</td>\n",
              "      <td>W_Afhandelen leads</td>\n",
              "      <td>3500</td>\n",
              "      <td>14/02/2012 14:59:44</td>\n",
              "      <td>10982.0</td>\n",
              "      <td>COMPLETE</td>\n",
              "      <td>14/02/2012 15:40:30</td>\n",
              "    </tr>\n",
              "    <tr>\n",
              "      <th>113091</th>\n",
              "      <td>191413</td>\n",
              "      <td>O_CANCELLED</td>\n",
              "      <td>30000</td>\n",
              "      <td>05/12/2011 16:30:56</td>\n",
              "      <td>10910.0</td>\n",
              "      <td>COMPLETE</td>\n",
              "      <td>16/12/2011 09:19:36</td>\n",
              "    </tr>\n",
              "    <tr>\n",
              "      <th>191601</th>\n",
              "      <td>203140</td>\n",
              "      <td>A_PARTLYSUBMITTED</td>\n",
              "      <td>30000</td>\n",
              "      <td>23/01/2012 09:46:08</td>\n",
              "      <td>112.0</td>\n",
              "      <td>COMPLETE</td>\n",
              "      <td>23/01/2012 09:46:08</td>\n",
              "    </tr>\n",
              "    <tr>\n",
              "      <th>158647</th>\n",
              "      <td>198140</td>\n",
              "      <td>W_Completeren aanvraag</td>\n",
              "      <td>12000</td>\n",
              "      <td>04/01/2012 22:16:35</td>\n",
              "      <td>10913.0</td>\n",
              "      <td>COMPLETE</td>\n",
              "      <td>16/01/2012 16:13:01</td>\n",
              "    </tr>\n",
              "    <tr>\n",
              "      <th>73444</th>\n",
              "      <td>184754</td>\n",
              "      <td>A_DECLINED</td>\n",
              "      <td>68000</td>\n",
              "      <td>12/11/2011 11:36:29</td>\n",
              "      <td>11181.0</td>\n",
              "      <td>COMPLETE</td>\n",
              "      <td>14/11/2011 19:25:01</td>\n",
              "    </tr>\n",
              "    <tr>\n",
              "      <th>214993</th>\n",
              "      <td>206399</td>\n",
              "      <td>W_Nabellen offertes</td>\n",
              "      <td>30000</td>\n",
              "      <td>04/02/2012 01:04:12</td>\n",
              "      <td>10912.0</td>\n",
              "      <td>COMPLETE</td>\n",
              "      <td>21/02/2012 16:33:20</td>\n",
              "    </tr>\n",
              "  </tbody>\n",
              "</table>\n",
              "</div>"
            ],
            "text/plain": [
              "        Case ID  ...       time:timestamp\n",
              "37198    179272  ...  01/11/2011 10:04:14\n",
              "119328   192401  ...  09/12/2011 12:53:53\n",
              "155488   197626  ...  03/01/2012 17:10:08\n",
              "145187   196267  ...  10/01/2012 13:47:29\n",
              "233520   209335  ...  14/02/2012 15:40:30\n",
              "113091   191413  ...  16/12/2011 09:19:36\n",
              "191601   203140  ...  23/01/2012 09:46:08\n",
              "158647   198140  ...  16/01/2012 16:13:01\n",
              "73444    184754  ...  14/11/2011 19:25:01\n",
              "214993   206399  ...  21/02/2012 16:33:20\n",
              "\n",
              "[10 rows x 7 columns]"
            ]
          },
          "metadata": {
            "tags": []
          },
          "execution_count": 3
        }
      ]
    },
    {
      "cell_type": "code",
      "metadata": {
        "id": "FgA0x8kr6wxU"
      },
      "source": [
        "data = log.copy()"
      ],
      "execution_count": null,
      "outputs": []
    },
    {
      "cell_type": "markdown",
      "metadata": {
        "id": "OSsSstFMrb1l"
      },
      "source": [
        "# Análise exploratória"
      ]
    },
    {
      "cell_type": "code",
      "metadata": {
        "colab": {
          "base_uri": "https://localhost:8080/"
        },
        "id": "ZwJCXmmQ3cqw",
        "outputId": "3151de3e-58e9-4b3d-db04-b085348bdb84"
      },
      "source": [
        "data.shape #quantidade de eventos e quantidade de características descritivas do evento"
      ],
      "execution_count": null,
      "outputs": [
        {
          "output_type": "execute_result",
          "data": {
            "text/plain": [
              "(262200, 7)"
            ]
          },
          "metadata": {
            "tags": []
          },
          "execution_count": 5
        }
      ]
    },
    {
      "cell_type": "code",
      "metadata": {
        "colab": {
          "base_uri": "https://localhost:8080/"
        },
        "id": "c6owcxjodcT0",
        "outputId": "deb783e5-c2db-4244-a663-771dc298bdb5"
      },
      "source": [
        "n_cases = len(data['Case ID'].unique())\n",
        "n_cases"
      ],
      "execution_count": null,
      "outputs": [
        {
          "output_type": "execute_result",
          "data": {
            "text/plain": [
              "13087"
            ]
          },
          "metadata": {
            "tags": []
          },
          "execution_count": 6
        }
      ]
    },
    {
      "cell_type": "code",
      "metadata": {
        "colab": {
          "base_uri": "https://localhost:8080/"
        },
        "id": "xZg1AZlAX_VK",
        "outputId": "437e1883-954a-42b3-e9ad-9a44cd2b2553"
      },
      "source": [
        "data.Activity.value_counts()"
      ],
      "execution_count": null,
      "outputs": [
        {
          "output_type": "execute_result",
          "data": {
            "text/plain": [
              "W_Completeren aanvraag            54850\n",
              "W_Nabellen offertes               52016\n",
              "W_Nabellen incomplete dossiers    25190\n",
              "W_Valideren aanvraag              20809\n",
              "W_Afhandelen leads                16566\n",
              "A_SUBMITTED                       13087\n",
              "A_PARTLYSUBMITTED                 13087\n",
              "A_DECLINED                         7635\n",
              "A_PREACCEPTED                      7367\n",
              "O_SELECTED                         7030\n",
              "O_SENT                             7030\n",
              "O_CREATED                          7030\n",
              "A_ACCEPTED                         5113\n",
              "A_FINALIZED                        5015\n",
              "O_CANCELLED                        3655\n",
              "O_SENT_BACK                        3454\n",
              "A_CANCELLED                        2807\n",
              "A_ACTIVATED                        2246\n",
              "A_REGISTERED                       2246\n",
              "A_APPROVED                         2246\n",
              "O_ACCEPTED                         2243\n",
              "O_DECLINED                          802\n",
              "W_Beoordelen fraude                 664\n",
              "W_Wijzigen contractgegevens          12\n",
              "Name: Activity, dtype: int64"
            ]
          },
          "metadata": {
            "tags": []
          },
          "execution_count": 7
        }
      ]
    },
    {
      "cell_type": "markdown",
      "metadata": {
        "id": "m8WwkgW5rjJJ"
      },
      "source": [
        "Renomeação das atividades de alemão para inglês"
      ]
    },
    {
      "cell_type": "code",
      "metadata": {
        "id": "z4uzqURqTqwE"
      },
      "source": [
        "data['Activity'] = data['Activity'].replace({\n",
        "                    'W_Nabellen incomplete dossiers': 'W_Calling to add missing information to the application',\n",
        "                    'W_Afhandelen leads':'W_Fixing incoming lead',\n",
        "                    'W_Completeren aanvraag':'W_Filling in information for the application',\n",
        "                    'W_Nabellen offertes': 'W_Calling after sent offers',\n",
        "                    'W_Valideren aanvraag': 'W_Assessing the application',\n",
        "                    'W_Beoordelen fraude': 'W_Evaluate fraud',\n",
        "                    'W_Wijzigen contractgegevens': 'W_Change contract details'})"
      ],
      "execution_count": null,
      "outputs": []
    },
    {
      "cell_type": "code",
      "metadata": {
        "colab": {
          "base_uri": "https://localhost:8080/"
        },
        "id": "D1vXaRKhZWS6",
        "outputId": "2936be11-0bad-47c6-b24d-4feba6997336"
      },
      "source": [
        "data['org:resource'].value_counts()"
      ],
      "execution_count": null,
      "outputs": [
        {
          "output_type": "execute_result",
          "data": {
            "text/plain": [
              "112.0      45687\n",
              "11169.0     7825\n",
              "10138.0     7690\n",
              "11181.0     7551\n",
              "10861.0     7382\n",
              "           ...  \n",
              "10124.0       10\n",
              "11269.0        6\n",
              "10125.0        6\n",
              "11254.0        5\n",
              "10821.0        2\n",
              "Name: org:resource, Length: 68, dtype: int64"
            ]
          },
          "metadata": {
            "tags": []
          },
          "execution_count": 9
        }
      ]
    },
    {
      "cell_type": "markdown",
      "metadata": {
        "id": "XD7fgdE8uc1C"
      },
      "source": [
        "Somente as atividades que começam com \"W_\" tem informações de recursos, início e fim, então já vou filtrar aqui essas atividades "
      ]
    },
    {
      "cell_type": "code",
      "metadata": {
        "id": "KKCCTaFvurfa"
      },
      "source": [
        "data = data[data['Activity'].apply(lambda x: 'W_' in x)]"
      ],
      "execution_count": null,
      "outputs": []
    },
    {
      "cell_type": "markdown",
      "metadata": {
        "id": "NtKvsHYvAL9U"
      },
      "source": [
        "Quantidade de casos:"
      ]
    },
    {
      "cell_type": "code",
      "metadata": {
        "colab": {
          "base_uri": "https://localhost:8080/"
        },
        "id": "s-jJldC-3gqX",
        "outputId": "2c4bddce-5f1c-41f5-89a6-998aa6aab385"
      },
      "source": [
        "n_cases = len(data['Case ID'].unique())\n",
        "n_cases"
      ],
      "execution_count": null,
      "outputs": [
        {
          "output_type": "execute_result",
          "data": {
            "text/plain": [
              "9658"
            ]
          },
          "metadata": {
            "tags": []
          },
          "execution_count": 11
        }
      ]
    },
    {
      "cell_type": "markdown",
      "metadata": {
        "id": "Nr1xF-OBrubG"
      },
      "source": [
        "# Verificação das informações sobre recursos"
      ]
    },
    {
      "cell_type": "markdown",
      "metadata": {
        "id": "VlnNbQ4KHQi5"
      },
      "source": [
        "Quantos dos casos nao tem informação de recurso em algum dos eventos?"
      ]
    },
    {
      "cell_type": "code",
      "metadata": {
        "colab": {
          "base_uri": "https://localhost:8080/"
        },
        "id": "X7EBN8j920xc",
        "outputId": "b706b539-c00a-493e-bec1-9f5d0e4f904e"
      },
      "source": [
        "len(data[data[\"org:resource\"].isnull()]['Case ID'].unique())"
      ],
      "execution_count": null,
      "outputs": [
        {
          "output_type": "execute_result",
          "data": {
            "text/plain": [
              "3528"
            ]
          },
          "metadata": {
            "tags": []
          },
          "execution_count": 12
        }
      ]
    },
    {
      "cell_type": "markdown",
      "metadata": {
        "id": "a27rtpUNy9gW"
      },
      "source": [
        "Filtrando só os casos que seus eventos que tem recurso associado...\n"
      ]
    },
    {
      "cell_type": "code",
      "metadata": {
        "colab": {
          "base_uri": "https://localhost:8080/"
        },
        "id": "T9u4ALjGy8Kc",
        "outputId": "b3c69052-38d1-42b0-f2d0-b1b2c5150983"
      },
      "source": [
        "missing_resource_cases = data[data[\"org:resource\"].isnull()]['Case ID'].unique()\n",
        "data = data[~data['Case ID'].isin(missing_resource_cases)]\n",
        "len(data['Case ID'].unique()) #qtd de casos que sobraram dos 13087 iniciais"
      ],
      "execution_count": null,
      "outputs": [
        {
          "output_type": "execute_result",
          "data": {
            "text/plain": [
              "6130"
            ]
          },
          "metadata": {
            "tags": []
          },
          "execution_count": 13
        }
      ]
    },
    {
      "cell_type": "markdown",
      "metadata": {
        "id": "JuQ7XcD8zXli"
      },
      "source": [
        "Distribuição da quantidade de eventos por recurso:"
      ]
    },
    {
      "cell_type": "code",
      "metadata": {
        "colab": {
          "base_uri": "https://localhost:8080/"
        },
        "id": "UqufN6M1zPdF",
        "outputId": "7fa6099c-191b-43dd-ec86-08e2ba65f7f7"
      },
      "source": [
        "data['org:resource'].value_counts()"
      ],
      "execution_count": null,
      "outputs": [
        {
          "output_type": "execute_result",
          "data": {
            "text/plain": [
              "112.0      6131\n",
              "11169.0    3209\n",
              "10861.0    3012\n",
              "10909.0    2926\n",
              "10913.0    2871\n",
              "11119.0    2784\n",
              "11203.0    2759\n",
              "11181.0    2715\n",
              "10982.0    2548\n",
              "11122.0    2477\n",
              "10609.0    2449\n",
              "11180.0    2281\n",
              "11259.0    2271\n",
              "10899.0    2262\n",
              "10138.0    2219\n",
              "11201.0    2106\n",
              "11003.0    2064\n",
              "11049.0    2029\n",
              "11189.0    1997\n",
              "10972.0    1879\n",
              "10932.0    1873\n",
              "10881.0    1864\n",
              "10910.0    1861\n",
              "11121.0    1617\n",
              "10629.0    1591\n",
              "11179.0    1589\n",
              "11009.0    1589\n",
              "10889.0    1530\n",
              "11000.0    1518\n",
              "10929.0    1480\n",
              "10809.0    1407\n",
              "10863.0    1329\n",
              "11289.0    1260\n",
              "10912.0    1215\n",
              "11019.0    1158\n",
              "10933.0    1137\n",
              "10939.0     850\n",
              "11302.0     804\n",
              "11300.0     737\n",
              "10931.0     677\n",
              "11299.0     632\n",
              "11002.0     632\n",
              "11309.0     586\n",
              "11319.0     582\n",
              "10789.0     566\n",
              "10935.0     547\n",
              "10188.0     376\n",
              "10228.0     278\n",
              "10914.0     170\n",
              "11001.0      74\n",
              "10779.0      50\n",
              "11304.0      41\n",
              "11339.0      39\n",
              "11079.0      24\n",
              "10124.0       9\n",
              "11254.0       5\n",
              "11269.0       4\n",
              "10821.0       2\n",
              "Name: org:resource, dtype: int64"
            ]
          },
          "metadata": {
            "tags": []
          },
          "execution_count": 14
        }
      ]
    },
    {
      "cell_type": "code",
      "metadata": {
        "colab": {
          "base_uri": "https://localhost:8080/"
        },
        "id": "X8kQ1NgTzt_y",
        "outputId": "2257255e-67ae-471f-f605-77b9a61a67a6"
      },
      "source": [
        "data[data['org:resource'] == 112]['lifecycle:transition'].value_counts()"
      ],
      "execution_count": null,
      "outputs": [
        {
          "output_type": "execute_result",
          "data": {
            "text/plain": [
              "SCHEDULE    6130\n",
              "COMPLETE       1\n",
              "Name: lifecycle:transition, dtype: int64"
            ]
          },
          "metadata": {
            "tags": []
          },
          "execution_count": 15
        }
      ]
    },
    {
      "cell_type": "markdown",
      "metadata": {
        "id": "dI04eEj5zf_w"
      },
      "source": [
        "O recurso 112 parece ser um \"robô\" e só tem a evento de transição \"SCHEDULE\", então vou excluir todos os eventos que esse é o recurso:"
      ]
    },
    {
      "cell_type": "code",
      "metadata": {
        "id": "73Lomh2Yzd9e"
      },
      "source": [
        "data = data[data['org:resource'] != 112]"
      ],
      "execution_count": null,
      "outputs": []
    },
    {
      "cell_type": "markdown",
      "metadata": {
        "id": "WWz2C6Qu2T-_"
      },
      "source": [
        "Como vou usar a duração da atividade de custo, só me interessa os eventos de início (START) e conclusão (COMPLETE) da atividade - tirar os eventos 'SCHEDULE':"
      ]
    },
    {
      "cell_type": "code",
      "metadata": {
        "colab": {
          "base_uri": "https://localhost:8080/"
        },
        "id": "GUwk_vlp2OWC",
        "outputId": "91901240-0c75-4396-b777-433024a80eb2"
      },
      "source": [
        "data['lifecycle:transition'].value_counts()"
      ],
      "execution_count": null,
      "outputs": [
        {
          "output_type": "execute_result",
          "data": {
            "text/plain": [
              "COMPLETE    35165\n",
              "START       34759\n",
              "SCHEDULE     8637\n",
              "Name: lifecycle:transition, dtype: int64"
            ]
          },
          "metadata": {
            "tags": []
          },
          "execution_count": 17
        }
      ]
    },
    {
      "cell_type": "code",
      "metadata": {
        "id": "-WX_7NpO27L8"
      },
      "source": [
        "data = data[data['lifecycle:transition']!='SCHEDULE']"
      ],
      "execution_count": null,
      "outputs": []
    },
    {
      "cell_type": "code",
      "metadata": {
        "colab": {
          "base_uri": "https://localhost:8080/",
          "height": 17
        },
        "id": "1N03J-c7UU0K",
        "outputId": "772167a5-4c8a-4f9d-ca9b-a1a608dff443"
      },
      "source": [
        "data.to_csv('bpi12_filtered.csv',index=False)\n",
        "from google.colab import files\n",
        "#files.download('bpi12_filtered.csv') "
      ],
      "execution_count": null,
      "outputs": [
        {
          "output_type": "display_data",
          "data": {
            "application/javascript": [
              "\n",
              "    async function download(id, filename, size) {\n",
              "      if (!google.colab.kernel.accessAllowed) {\n",
              "        return;\n",
              "      }\n",
              "      const div = document.createElement('div');\n",
              "      const label = document.createElement('label');\n",
              "      label.textContent = `Downloading \"${filename}\": `;\n",
              "      div.appendChild(label);\n",
              "      const progress = document.createElement('progress');\n",
              "      progress.max = size;\n",
              "      div.appendChild(progress);\n",
              "      document.body.appendChild(div);\n",
              "\n",
              "      const buffers = [];\n",
              "      let downloaded = 0;\n",
              "\n",
              "      const channel = await google.colab.kernel.comms.open(id);\n",
              "      // Send a message to notify the kernel that we're ready.\n",
              "      channel.send({})\n",
              "\n",
              "      for await (const message of channel.messages) {\n",
              "        // Send a message to notify the kernel that we're ready.\n",
              "        channel.send({})\n",
              "        if (message.buffers) {\n",
              "          for (const buffer of message.buffers) {\n",
              "            buffers.push(buffer);\n",
              "            downloaded += buffer.byteLength;\n",
              "            progress.value = downloaded;\n",
              "          }\n",
              "        }\n",
              "      }\n",
              "      const blob = new Blob(buffers, {type: 'application/binary'});\n",
              "      const a = document.createElement('a');\n",
              "      a.href = window.URL.createObjectURL(blob);\n",
              "      a.download = filename;\n",
              "      div.appendChild(a);\n",
              "      a.click();\n",
              "      div.remove();\n",
              "    }\n",
              "  "
            ],
            "text/plain": [
              "<IPython.core.display.Javascript object>"
            ]
          },
          "metadata": {
            "tags": []
          }
        },
        {
          "output_type": "display_data",
          "data": {
            "application/javascript": [
              "download(\"download_e5201f58-3bea-4792-9f69-5ddf6b06a6c1\", \"bpi12_filtered.csv\", 7361602)"
            ],
            "text/plain": [
              "<IPython.core.display.Javascript object>"
            ]
          },
          "metadata": {
            "tags": []
          }
        }
      ]
    },
    {
      "cell_type": "code",
      "metadata": {
        "colab": {
          "base_uri": "https://localhost:8080/"
        },
        "id": "Kr4izW4R3B4U",
        "outputId": "e612e750-bc7b-448c-87e1-fdcbf66d9f5f"
      },
      "source": [
        "data['lifecycle:transition'].value_counts()"
      ],
      "execution_count": null,
      "outputs": [
        {
          "output_type": "execute_result",
          "data": {
            "text/plain": [
              "COMPLETE    35165\n",
              "START       34759\n",
              "Name: lifecycle:transition, dtype: int64"
            ]
          },
          "metadata": {
            "tags": []
          },
          "execution_count": 20
        }
      ]
    },
    {
      "cell_type": "markdown",
      "metadata": {
        "id": "3tRRJGMQ4MlQ"
      },
      "source": [
        "Quantos eventos existentes para cada atividade em cada caso?"
      ]
    },
    {
      "cell_type": "code",
      "metadata": {
        "colab": {
          "base_uri": "https://localhost:8080/"
        },
        "id": "UfQnkSCX3m-R",
        "outputId": "570e98d8-35fe-407f-b9b4-840fb21a9842"
      },
      "source": [
        "(pd.DataFrame(data.groupby(['Case ID','Activity'])['AMOUNT_REQ'].count())\n",
        "                  .reset_index()\n",
        "                  .rename(columns={'AMOUNT_REQ':'Count'})\n",
        "                  .Count.value_counts())"
      ],
      "execution_count": null,
      "outputs": [
        {
          "output_type": "execute_result",
          "data": {
            "text/plain": [
              "2      5888\n",
              "4      2493\n",
              "6      1398\n",
              "8       879\n",
              "10      473\n",
              "12      299\n",
              "14      209\n",
              "16      171\n",
              "18      126\n",
              "20       87\n",
              "22       69\n",
              "24       41\n",
              "7        40\n",
              "13       38\n",
              "28       37\n",
              "17       36\n",
              "19       36\n",
              "11       34\n",
              "9        33\n",
              "26       33\n",
              "23       28\n",
              "15       27\n",
              "21       26\n",
              "27       25\n",
              "5        22\n",
              "25       18\n",
              "29       14\n",
              "30       13\n",
              "31       11\n",
              "42       10\n",
              "32        9\n",
              "40        8\n",
              "3         8\n",
              "36        7\n",
              "34        6\n",
              "44        6\n",
              "33        5\n",
              "48        4\n",
              "1         3\n",
              "54        3\n",
              "35        3\n",
              "37        3\n",
              "46        3\n",
              "38        2\n",
              "52        2\n",
              "56        2\n",
              "39        2\n",
              "66        2\n",
              "88        1\n",
              "50        1\n",
              "60        1\n",
              "114       1\n",
              "74        1\n",
              "70        1\n",
              "58        1\n",
              "Name: Count, dtype: int64"
            ]
          },
          "metadata": {
            "tags": []
          },
          "execution_count": 21
        }
      ]
    },
    {
      "cell_type": "code",
      "metadata": {
        "id": "fmuuEUpR9bn1"
      },
      "source": [
        "#Interpretação: Em 5888 atividades, há 2 eventos relacionado a ela no case no qual ela acontece"
      ],
      "execution_count": null,
      "outputs": []
    },
    {
      "cell_type": "markdown",
      "metadata": {
        "id": "xpL5-XiF-jXx"
      },
      "source": [
        "Qual a porcentagem de atividades que acontecem essa quantidade de eventos relacionados a ela?"
      ]
    },
    {
      "cell_type": "code",
      "metadata": {
        "colab": {
          "base_uri": "https://localhost:8080/",
          "height": 329
        },
        "id": "leDJCYss4FHE",
        "outputId": "d87b5957-42b3-4496-c531-61b9e7e9e42a"
      },
      "source": [
        "aux = pd.DataFrame((data.groupby(['Case ID','Activity'])\n",
        "                       .AMOUNT_REQ.count())\n",
        "                       .reset_index()\n",
        "                       .rename(columns={'AMOUNT_REQ':'Count'}))\n",
        "_ = pd.DataFrame(aux.Count.value_counts().sort_index()/aux.shape[0]).plot(kind='bar', figsize=(15,5))"
      ],
      "execution_count": null,
      "outputs": [
        {
          "output_type": "display_data",
          "data": {
            "image/png": "[encoded data removed]",
            "text/plain": [
              "<Figure size 1080x360 with 1 Axes>"
            ]
          },
          "metadata": {
            "tags": [],
            "needs_background": "light"
          }
        }
      ]
    },
    {
      "cell_type": "markdown",
      "metadata": {
        "id": "uy3JRbqhAOA5"
      },
      "source": [
        "# Cálculo da duração das atividades (custo no MDP)"
      ]
    },
    {
      "cell_type": "code",
      "metadata": {
        "id": "LW7pzhxxglz-"
      },
      "source": [
        "data['time:timestamp'] = pd.to_datetime(data['time:timestamp'], format=\"%d/%m/%Y %H:%M:%S\")"
      ],
      "execution_count": null,
      "outputs": []
    },
    {
      "cell_type": "code",
      "metadata": {
        "colab": {
          "base_uri": "https://localhost:8080/",
          "height": 304
        },
        "id": "LN5AZhulbSFa",
        "outputId": "190959a3-8e4a-4af6-ebce-3fd2b27210e5"
      },
      "source": [
        "data = data.sort_values(['Case ID','Activity','org:resource','time:timestamp'])\n",
        "data.head()"
      ],
      "execution_count": null,
      "outputs": [
        {
          "output_type": "execute_result",
          "data": {
            "text/html": [
              "<div>\n",
              "<style scoped>\n",
              "    .dataframe tbody tr th:only-of-type {\n",
              "        vertical-align: middle;\n",
              "    }\n",
              "\n",
              "    .dataframe tbody tr th {\n",
              "        vertical-align: top;\n",
              "    }\n",
              "\n",
              "    .dataframe thead th {\n",
              "        text-align: right;\n",
              "    }\n",
              "</style>\n",
              "<table border=\"1\" class=\"dataframe\">\n",
              "  <thead>\n",
              "    <tr style=\"text-align: right;\">\n",
              "      <th></th>\n",
              "      <th>Case ID</th>\n",
              "      <th>Activity</th>\n",
              "      <th>AMOUNT_REQ</th>\n",
              "      <th>REG_DATE</th>\n",
              "      <th>org:resource</th>\n",
              "      <th>lifecycle:transition</th>\n",
              "      <th>time:timestamp</th>\n",
              "    </tr>\n",
              "  </thead>\n",
              "  <tbody>\n",
              "    <tr>\n",
              "      <th>134</th>\n",
              "      <td>173703</td>\n",
              "      <td>W_Filling in information for the application</td>\n",
              "      <td>13500</td>\n",
              "      <td>01/10/2011 09:45:25</td>\n",
              "      <td>10912.0</td>\n",
              "      <td>START</td>\n",
              "      <td>2011-10-01 11:37:46</td>\n",
              "    </tr>\n",
              "    <tr>\n",
              "      <th>135</th>\n",
              "      <td>173703</td>\n",
              "      <td>W_Filling in information for the application</td>\n",
              "      <td>13500</td>\n",
              "      <td>01/10/2011 09:45:25</td>\n",
              "      <td>10912.0</td>\n",
              "      <td>COMPLETE</td>\n",
              "      <td>2011-10-01 11:40:24</td>\n",
              "    </tr>\n",
              "    <tr>\n",
              "      <th>136</th>\n",
              "      <td>173703</td>\n",
              "      <td>W_Filling in information for the application</td>\n",
              "      <td>13500</td>\n",
              "      <td>01/10/2011 09:45:25</td>\n",
              "      <td>10912.0</td>\n",
              "      <td>START</td>\n",
              "      <td>2011-10-01 12:40:26</td>\n",
              "    </tr>\n",
              "    <tr>\n",
              "      <th>138</th>\n",
              "      <td>173703</td>\n",
              "      <td>W_Filling in information for the application</td>\n",
              "      <td>13500</td>\n",
              "      <td>01/10/2011 09:45:25</td>\n",
              "      <td>10912.0</td>\n",
              "      <td>COMPLETE</td>\n",
              "      <td>2011-10-01 13:02:12</td>\n",
              "    </tr>\n",
              "    <tr>\n",
              "      <th>157</th>\n",
              "      <td>173709</td>\n",
              "      <td>W_Filling in information for the application</td>\n",
              "      <td>11000</td>\n",
              "      <td>01/10/2011 09:57:42</td>\n",
              "      <td>10912.0</td>\n",
              "      <td>START</td>\n",
              "      <td>2011-10-01 10:26:42</td>\n",
              "    </tr>\n",
              "  </tbody>\n",
              "</table>\n",
              "</div>"
            ],
            "text/plain": [
              "     Case ID  ...      time:timestamp\n",
              "134   173703  ... 2011-10-01 11:37:46\n",
              "135   173703  ... 2011-10-01 11:40:24\n",
              "136   173703  ... 2011-10-01 12:40:26\n",
              "138   173703  ... 2011-10-01 13:02:12\n",
              "157   173709  ... 2011-10-01 10:26:42\n",
              "\n",
              "[5 rows x 7 columns]"
            ]
          },
          "metadata": {
            "tags": []
          },
          "execution_count": 25
        }
      ]
    },
    {
      "cell_type": "code",
      "metadata": {
        "id": "c7IPCdFkiik_"
      },
      "source": [
        "def calc_duration(x):\n",
        "  if (x['lifecycle:transition'] == 'COMPLETE' and \n",
        "      x['lifecycle:transition_shifted'] == 'START' and \n",
        "      x['Activity_shifted'] == x['Activity'] and\n",
        "      x['org:resource_shifted'] == x['org:resource']):\n",
        "    return x['time:timestamp'] - x['time:timestamp_shifted']\n",
        "  return np.nan"
      ],
      "execution_count": null,
      "outputs": []
    },
    {
      "cell_type": "code",
      "metadata": {
        "id": "YECQZQ9-p-Ul"
      },
      "source": [
        "data['lifecycle:transition_shifted'] = data['lifecycle:transition'].shift()\n",
        "data['Activity_shifted'] = data['Activity'].shift()\n",
        "data['org:resource_shifted'] = data['org:resource'].shift()\n",
        "data['time:timestamp_shifted'] = data['time:timestamp'].shift()\n",
        "data['duration'] = data.apply(calc_duration, axis=1)\n",
        "data['Duration(s)'] = data.duration.apply(lambda x: pd.Timedelta(x).total_seconds())"
      ],
      "execution_count": null,
      "outputs": []
    },
    {
      "cell_type": "markdown",
      "metadata": {
        "id": "LOu3qIEYQ4x7"
      },
      "source": [
        "# Criar resources' workload"
      ]
    },
    {
      "cell_type": "code",
      "metadata": {
        "colab": {
          "base_uri": "https://localhost:8080/"
        },
        "id": "3mcJEpldMUWu",
        "outputId": "f7a4e050-70fb-47d4-e130-cb7391a06f8f"
      },
      "source": [
        "qtd_resources = len(data['org:resource'].unique())\n",
        "qtd_resources"
      ],
      "execution_count": null,
      "outputs": [
        {
          "output_type": "execute_result",
          "data": {
            "text/plain": [
              "57"
            ]
          },
          "metadata": {
            "tags": []
          },
          "execution_count": 28
        }
      ]
    },
    {
      "cell_type": "code",
      "metadata": {
        "colab": {
          "base_uri": "https://localhost:8080/"
        },
        "id": "SWeM1edOQLe2",
        "outputId": "cf54fde8-3f41-4ae7-e17e-0e2c0a66c8e2"
      },
      "source": [
        "data['Workload_count'] = [{int(resource): 0 for resource in data['org:resource'].unique()}]*len(data)\n",
        "data.head(3)"
      ],
      "execution_count": null,
      "outputs": [
        {
          "output_type": "execute_result",
          "data": {
            "text/html": [
              "<div>\n",
              "<style scoped>\n",
              "    .dataframe tbody tr th:only-of-type {\n",
              "        vertical-align: middle;\n",
              "    }\n",
              "\n",
              "    .dataframe tbody tr th {\n",
              "        vertical-align: top;\n",
              "    }\n",
              "\n",
              "    .dataframe thead th {\n",
              "        text-align: right;\n",
              "    }\n",
              "</style>\n",
              "<table border=\"1\" class=\"dataframe\">\n",
              "  <thead>\n",
              "    <tr style=\"text-align: right;\">\n",
              "      <th></th>\n",
              "      <th>Case ID</th>\n",
              "      <th>Activity</th>\n",
              "      <th>AMOUNT_REQ</th>\n",
              "      <th>REG_DATE</th>\n",
              "      <th>org:resource</th>\n",
              "      <th>lifecycle:transition</th>\n",
              "      <th>time:timestamp</th>\n",
              "      <th>lifecycle:transition_shifted</th>\n",
              "      <th>Activity_shifted</th>\n",
              "      <th>org:resource_shifted</th>\n",
              "      <th>time:timestamp_shifted</th>\n",
              "      <th>duration</th>\n",
              "      <th>Duration(s)</th>\n",
              "      <th>Workload_count</th>\n",
              "    </tr>\n",
              "  </thead>\n",
              "  <tbody>\n",
              "    <tr>\n",
              "      <th>134</th>\n",
              "      <td>173703</td>\n",
              "      <td>W_Filling in information for the application</td>\n",
              "      <td>13500</td>\n",
              "      <td>01/10/2011 09:45:25</td>\n",
              "      <td>10912.0</td>\n",
              "      <td>START</td>\n",
              "      <td>2011-10-01 11:37:46</td>\n",
              "      <td>NaN</td>\n",
              "      <td>NaN</td>\n",
              "      <td>NaN</td>\n",
              "      <td>NaT</td>\n",
              "      <td>NaT</td>\n",
              "      <td>NaN</td>\n",
              "      <td>{10912: 0, 10982: 0, 11019: 0, 11180: 0, 10939...</td>\n",
              "    </tr>\n",
              "    <tr>\n",
              "      <th>135</th>\n",
              "      <td>173703</td>\n",
              "      <td>W_Filling in information for the application</td>\n",
              "      <td>13500</td>\n",
              "      <td>01/10/2011 09:45:25</td>\n",
              "      <td>10912.0</td>\n",
              "      <td>COMPLETE</td>\n",
              "      <td>2011-10-01 11:40:24</td>\n",
              "      <td>START</td>\n",
              "      <td>W_Filling in information for the application</td>\n",
              "      <td>10912.0</td>\n",
              "      <td>2011-10-01 11:37:46</td>\n",
              "      <td>0 days 00:02:38</td>\n",
              "      <td>158.0</td>\n",
              "      <td>{10912: 0, 10982: 0, 11019: 0, 11180: 0, 10939...</td>\n",
              "    </tr>\n",
              "    <tr>\n",
              "      <th>136</th>\n",
              "      <td>173703</td>\n",
              "      <td>W_Filling in information for the application</td>\n",
              "      <td>13500</td>\n",
              "      <td>01/10/2011 09:45:25</td>\n",
              "      <td>10912.0</td>\n",
              "      <td>START</td>\n",
              "      <td>2011-10-01 12:40:26</td>\n",
              "      <td>COMPLETE</td>\n",
              "      <td>W_Filling in information for the application</td>\n",
              "      <td>10912.0</td>\n",
              "      <td>2011-10-01 11:40:24</td>\n",
              "      <td>NaT</td>\n",
              "      <td>NaN</td>\n",
              "      <td>{10912: 0, 10982: 0, 11019: 0, 11180: 0, 10939...</td>\n",
              "    </tr>\n",
              "  </tbody>\n",
              "</table>\n",
              "</div>"
            ],
            "text/plain": [
              "     Case ID  ...                                     Workload_count\n",
              "134   173703  ...  {10912: 0, 10982: 0, 11019: 0, 11180: 0, 10939...\n",
              "135   173703  ...  {10912: 0, 10982: 0, 11019: 0, 11180: 0, 10939...\n",
              "136   173703  ...  {10912: 0, 10982: 0, 11019: 0, 11180: 0, 10939...\n",
              "\n",
              "[3 rows x 14 columns]"
            ]
          },
          "metadata": {
            "tags": []
          },
          "execution_count": 29
        }
      ]
    },
    {
      "cell_type": "code",
      "metadata": {
        "id": "wXcC3SplScT5"
      },
      "source": [
        "RESOURCES_WORKLOAD = {int(resource): 0 for resource in data['org:resource'].unique()}\n",
        "def update_workload_count(x):\n",
        "  if x['lifecycle:transition'] == 'START': \n",
        "    RESOURCES_WORKLOAD[int(x['org:resource'])] += 1\n",
        "  elif x['lifecycle:transition'] == 'COMPLETE' and RESOURCES_WORKLOAD[int(x['org:resource'])] > 0:\n",
        "    RESOURCES_WORKLOAD[int(x['org:resource'])] -= 1\n",
        "  x.Workload_count = RESOURCES_WORKLOAD.copy()\n",
        "  return x"
      ],
      "execution_count": null,
      "outputs": []
    },
    {
      "cell_type": "code",
      "metadata": {
        "id": "pcz1W5qBSDqw"
      },
      "source": [
        "data = data.sort_values(by='time:timestamp').apply(lambda x: update_workload_count(x), axis=1)"
      ],
      "execution_count": null,
      "outputs": []
    },
    {
      "cell_type": "code",
      "metadata": {
        "id": "pybZMNt8ce44"
      },
      "source": [
        "def def_workload_status(x):\n",
        "  activities_being_exec = np.array(list(x['Workload_count'].values())).sum()\n",
        "  AVG_R = (activities_being_exec/qtd_resources) \n",
        "  def get_r_workload(resource):\n",
        "    if x['Workload_count'][resource] < 1:\n",
        "      return 'FREE'\n",
        "    elif x['Workload_count'][resource] <= AVG_R: \n",
        "      return 'LOW'\n",
        "    return 'HIGH' \n",
        "  x['Workload'] = {resource: get_r_workload(resource) for resource in x['Workload_count']}\n",
        "  return x\n",
        "data = data.apply(lambda x: def_workload_status(x), axis=1)\n",
        "#nesse cj de dados, acaba sendo sempre 'FREE' ou 'HIGH' porque são poucas atividades executadas \n",
        "#num mesmo intervalo de tempo -> fica bem pequena a média de atividades em cada r, como a maioria\n",
        "#executa 0 atividades - activities_being_exec é pequeno e qtd_resources é grande (57)."
      ],
      "execution_count": null,
      "outputs": []
    },
    {
      "cell_type": "markdown",
      "metadata": {
        "id": "JwgzvkSl6dK-"
      },
      "source": [
        "Excluindo as atividades de início (START) e as que não tem evento de início (já que a duration delas vai estar vazio)"
      ]
    },
    {
      "cell_type": "code",
      "metadata": {
        "colab": {
          "base_uri": "https://localhost:8080/"
        },
        "id": "--zj3qSl3sx9",
        "outputId": "b06179eb-539c-45aa-9ee6-5a78d14b1966"
      },
      "source": [
        "data.shape"
      ],
      "execution_count": null,
      "outputs": [
        {
          "output_type": "execute_result",
          "data": {
            "text/plain": [
              "(69924, 15)"
            ]
          },
          "metadata": {
            "tags": []
          },
          "execution_count": 33
        }
      ]
    },
    {
      "cell_type": "code",
      "metadata": {
        "colab": {
          "base_uri": "https://localhost:8080/"
        },
        "id": "PSVkS18JQM2e",
        "outputId": "0b8b2a5b-a04d-4bdd-ee33-406c70fd7416"
      },
      "source": [
        "data = data.dropna()\n",
        "data.shape"
      ],
      "execution_count": null,
      "outputs": [
        {
          "output_type": "execute_result",
          "data": {
            "text/plain": [
              "(34751, 15)"
            ]
          },
          "metadata": {
            "tags": []
          },
          "execution_count": 34
        }
      ]
    },
    {
      "cell_type": "code",
      "metadata": {
        "colab": {
          "base_uri": "https://localhost:8080/"
        },
        "id": "KGyjgeDUsK7d",
        "outputId": "5b8449f5-a687-4a5b-8282-1938d975429c"
      },
      "source": [
        "data_final = data[['Case ID', 'Activity', 'org:resource', 'Workload', 'Duration(s)']]\n",
        "data_final['org:resource'] = data_final['org:resource'].astype(int).astype(str)\n",
        "data_final = data_final.rename(columns = {'org:resource':'Resource'})\n",
        "data_final"
      ],
      "execution_count": null,
      "outputs": [
        {
          "output_type": "stream",
          "text": [
            "/usr/local/lib/python3.7/dist-packages/ipykernel_launcher.py:2: SettingWithCopyWarning: \n",
            "A value is trying to be set on a copy of a slice from a DataFrame.\n",
            "Try using .loc[row_indexer,col_indexer] = value instead\n",
            "\n",
            "See the caveats in the documentation: https://pandas.pydata.org/pandas-docs/stable/user_guide/indexing.html#returning-a-view-versus-a-copy\n",
            "  \n"
          ],
          "name": "stderr"
        },
        {
          "output_type": "execute_result",
          "data": {
            "text/html": [
              "<div>\n",
              "<style scoped>\n",
              "    .dataframe tbody tr th:only-of-type {\n",
              "        vertical-align: middle;\n",
              "    }\n",
              "\n",
              "    .dataframe tbody tr th {\n",
              "        vertical-align: top;\n",
              "    }\n",
              "\n",
              "    .dataframe thead th {\n",
              "        text-align: right;\n",
              "    }\n",
              "</style>\n",
              "<table border=\"1\" class=\"dataframe\">\n",
              "  <thead>\n",
              "    <tr style=\"text-align: right;\">\n",
              "      <th></th>\n",
              "      <th>Case ID</th>\n",
              "      <th>Activity</th>\n",
              "      <th>Resource</th>\n",
              "      <th>Workload</th>\n",
              "      <th>Duration(s)</th>\n",
              "    </tr>\n",
              "  </thead>\n",
              "  <tbody>\n",
              "    <tr>\n",
              "      <th>171</th>\n",
              "      <td>173712</td>\n",
              "      <td>W_Fixing incoming lead</td>\n",
              "      <td>10912</td>\n",
              "      <td>{10912: 'FREE', 10982: 'FREE', 11019: 'FREE', ...</td>\n",
              "      <td>109.0</td>\n",
              "    </tr>\n",
              "    <tr>\n",
              "      <th>158</th>\n",
              "      <td>173709</td>\n",
              "      <td>W_Filling in information for the application</td>\n",
              "      <td>10912</td>\n",
              "      <td>{10912: 'FREE', 10982: 'FREE', 11019: 'FREE', ...</td>\n",
              "      <td>25.0</td>\n",
              "    </tr>\n",
              "    <tr>\n",
              "      <th>135</th>\n",
              "      <td>173703</td>\n",
              "      <td>W_Filling in information for the application</td>\n",
              "      <td>10912</td>\n",
              "      <td>{10912: 'FREE', 10982: 'FREE', 11019: 'FREE', ...</td>\n",
              "      <td>158.0</td>\n",
              "    </tr>\n",
              "    <tr>\n",
              "      <th>160</th>\n",
              "      <td>173709</td>\n",
              "      <td>W_Filling in information for the application</td>\n",
              "      <td>10912</td>\n",
              "      <td>{10912: 'FREE', 10982: 'FREE', 11019: 'FREE', ...</td>\n",
              "      <td>142.0</td>\n",
              "    </tr>\n",
              "    <tr>\n",
              "      <th>138</th>\n",
              "      <td>173703</td>\n",
              "      <td>W_Filling in information for the application</td>\n",
              "      <td>10912</td>\n",
              "      <td>{10912: 'FREE', 10982: 'FREE', 11019: 'HIGH', ...</td>\n",
              "      <td>1306.0</td>\n",
              "    </tr>\n",
              "    <tr>\n",
              "      <th>...</th>\n",
              "      <td>...</td>\n",
              "      <td>...</td>\n",
              "      <td>...</td>\n",
              "      <td>...</td>\n",
              "      <td>...</td>\n",
              "    </tr>\n",
              "    <tr>\n",
              "      <th>246921</th>\n",
              "      <td>211624</td>\n",
              "      <td>W_Calling to add missing information to the ap...</td>\n",
              "      <td>10863</td>\n",
              "      <td>{10912: 'FREE', 10982: 'FREE', 11019: 'FREE', ...</td>\n",
              "      <td>161.0</td>\n",
              "    </tr>\n",
              "    <tr>\n",
              "      <th>259482</th>\n",
              "      <td>213855</td>\n",
              "      <td>W_Calling after sent offers</td>\n",
              "      <td>11203</td>\n",
              "      <td>{10912: 'FREE', 10982: 'FREE', 11019: 'FREE', ...</td>\n",
              "      <td>505.0</td>\n",
              "    </tr>\n",
              "    <tr>\n",
              "      <th>252823</th>\n",
              "      <td>212689</td>\n",
              "      <td>W_Calling to add missing information to the ap...</td>\n",
              "      <td>10863</td>\n",
              "      <td>{10912: 'FREE', 10982: 'FREE', 11019: 'FREE', ...</td>\n",
              "      <td>163.0</td>\n",
              "    </tr>\n",
              "    <tr>\n",
              "      <th>256159</th>\n",
              "      <td>213276</td>\n",
              "      <td>W_Calling to add missing information to the ap...</td>\n",
              "      <td>10863</td>\n",
              "      <td>{10912: 'FREE', 10982: 'FREE', 11019: 'FREE', ...</td>\n",
              "      <td>41.0</td>\n",
              "    </tr>\n",
              "    <tr>\n",
              "      <th>246923</th>\n",
              "      <td>211624</td>\n",
              "      <td>W_Calling to add missing information to the ap...</td>\n",
              "      <td>11203</td>\n",
              "      <td>{10912: 'FREE', 10982: 'FREE', 11019: 'FREE', ...</td>\n",
              "      <td>8.0</td>\n",
              "    </tr>\n",
              "  </tbody>\n",
              "</table>\n",
              "<p>34751 rows × 5 columns</p>\n",
              "</div>"
            ],
            "text/plain": [
              "        Case ID  ... Duration(s)\n",
              "171      173712  ...       109.0\n",
              "158      173709  ...        25.0\n",
              "135      173703  ...       158.0\n",
              "160      173709  ...       142.0\n",
              "138      173703  ...      1306.0\n",
              "...         ...  ...         ...\n",
              "246921   211624  ...       161.0\n",
              "259482   213855  ...       505.0\n",
              "252823   212689  ...       163.0\n",
              "256159   213276  ...        41.0\n",
              "246923   211624  ...         8.0\n",
              "\n",
              "[34751 rows x 5 columns]"
            ]
          },
          "metadata": {
            "tags": []
          },
          "execution_count": 35
        }
      ]
    },
    {
      "cell_type": "markdown",
      "metadata": {
        "id": "uK2QDl-31jnV"
      },
      "source": [
        "Uma visualização rápida da duração das atividades por recurso:"
      ]
    },
    {
      "cell_type": "code",
      "metadata": {
        "id": "kDT6mNwb0WLg"
      },
      "source": [
        "df2plot = data_final.groupby(['Resource','Activity'])['Duration(s)'].mean().reset_index()\n",
        "df2plot['Resource'] = \"r_\" + df2plot['Resource'].astype(int).astype(str)"
      ],
      "execution_count": null,
      "outputs": []
    },
    {
      "cell_type": "code",
      "metadata": {
        "colab": {
          "base_uri": "https://localhost:8080/"
        },
        "id": "oZxOIqw3sooX",
        "outputId": "1f78a38b-0a64-46ec-9173-0882255ac0a7"
      },
      "source": [
        "import plotly.express as px\n",
        "px.bar(df2plot, x='Resource', y = 'Duration(s)', color = 'Activity', barmode = 'group', \n",
        "       template='plotly_white', width = 1200, height = 400).show()"
      ],
      "execution_count": null,
      "outputs": [
        {
          "output_type": "display_data",
          "data": {
            "text/html": [
              "<html>\n",
              "<head><meta charset=\"utf-8\" /></head>\n",
              "<body>\n",
              "    <div>\n",
              "            <script src=\"https://cdnjs.cloudflare.com/ajax/libs/mathjax/2.7.5/MathJax.js?config=TeX-AMS-MML_SVG\"></script><script type=\"text/javascript\">if (window.MathJax) {MathJax.Hub.Config({SVG: {font: \"STIX-Web\"}});}</script>\n",
              "                <script type=\"text/javascript\">window.PlotlyConfig = {MathJaxConfig: 'local'};</script>\n",
              "        <script src=\"https://cdn.plot.ly/plotly-latest.min.js\"></script>    \n",
              "            <div id=\"5ba4d37f-70c8-4e69-870f-155b7a499fb3\" class=\"plotly-graph-div\" style=\"height:400px; width:1200px;\"></div>\n",
              "            <script type=\"text/javascript\">\n",
              "                \n",
              "                    window.PLOTLYENV=window.PLOTLYENV || {};\n",
              "                    \n",
              "                if (document.getElementById(\"5ba4d37f-70c8-4e69-870f-155b7a499fb3\")) {\n",
              "                    Plotly.newPlot(\n",
              "                        '5ba4d37f-70c8-4e69-870f-155b7a499fb3',\n",
              "                        [{\"alignmentgroup\": \"True\", \"hoverlabel\": {\"namelength\": 0}, \"hovertemplate\": \"Activity=W_Assessing the application<br>Resource=%{x}<br>Duration(s)=%{y}\", \"legendgroup\": \"Activity=W_Assessing the application\", \"marker\": {\"color\": \"#636efa\"}, \"name\": \"Activity=W_Assessing the application\", \"offsetgroup\": \"Activity=W_Assessing the application\", \"orientation\": \"v\", \"showlegend\": true, \"textposition\": \"auto\", \"type\": \"bar\", \"x\": [\"r_10124\", \"r_10138\", \"r_10228\", \"r_10609\", \"r_10629\", \"r_10789\", \"r_10809\", \"r_10821\", \"r_10861\", \"r_10863\", \"r_10881\", \"r_10889\", \"r_10899\", \"r_10909\", \"r_10910\", \"r_10912\", \"r_10913\", \"r_10914\", \"r_10929\", \"r_10931\", \"r_10932\", \"r_10935\", \"r_10939\", \"r_10972\", \"r_10982\", \"r_11000\", \"r_11002\", \"r_11003\", \"r_11009\", \"r_11049\", \"r_11079\", \"r_11119\", \"r_11121\", \"r_11122\", \"r_11169\", \"r_11179\", \"r_11180\", \"r_11181\", \"r_11201\", \"r_11203\", \"r_11259\", \"r_11289\", \"r_11300\", \"r_11302\", \"r_11339\"], \"xaxis\": \"x\", \"y\": [515.0, 914.1177142857143, 143.0, 1337.2779827798279, 971.0566801619433, 26.8, 1010.3256302521008, 8.0, 82.07142857142857, 143.75, 67.66666666666667, 65.0, 4160.0, 97.1875, 72.25, 2412.4285714285716, 152.77777777777777, 71.0, 258.5, 28.0, 550.4, 695.25, 298.0, 1668.4338842975208, 5054.428571428572, 49.0, 14.0, 63.25, 267.75, 171.76923076923077, 238256.0, 42.0, 69.0, 260.6666666666667, 406.125, 12.0, 15.5, 120.16666666666667, 411.0, 30.0, 93.61538461538461, 2151.491329479769, 127.0, 35.0, 1006.5714285714286], \"yaxis\": \"y\"}, {\"alignmentgroup\": \"True\", \"hoverlabel\": {\"namelength\": 0}, \"hovertemplate\": \"Activity=W_Calling after sent offers<br>Resource=%{x}<br>Duration(s)=%{y}\", \"legendgroup\": \"Activity=W_Calling after sent offers\", \"marker\": {\"color\": \"#EF553B\"}, \"name\": \"Activity=W_Calling after sent offers\", \"offsetgroup\": \"Activity=W_Calling after sent offers\", \"orientation\": \"v\", \"showlegend\": true, \"textposition\": \"auto\", \"type\": \"bar\", \"x\": [\"r_10124\", \"r_10138\", \"r_10228\", \"r_10609\", \"r_10629\", \"r_10779\", \"r_10789\", \"r_10809\", \"r_10861\", \"r_10863\", \"r_10881\", \"r_10889\", \"r_10899\", \"r_10909\", \"r_10910\", \"r_10912\", \"r_10913\", \"r_10914\", \"r_10929\", \"r_10931\", \"r_10932\", \"r_10933\", \"r_10935\", \"r_10939\", \"r_10972\", \"r_10982\", \"r_11000\", \"r_11001\", \"r_11002\", \"r_11003\", \"r_11009\", \"r_11019\", \"r_11049\", \"r_11079\", \"r_11119\", \"r_11121\", \"r_11122\", \"r_11169\", \"r_11179\", \"r_11180\", \"r_11181\", \"r_11189\", \"r_11201\", \"r_11203\", \"r_11259\", \"r_11269\", \"r_11289\", \"r_11299\", \"r_11300\", \"r_11302\", \"r_11309\", \"r_11319\"], \"xaxis\": \"x\", \"y\": [23.0, 206.57142857142858, 499.5, 41.78947368421053, 100.0909090909091, 26.0, 34.08148148148148, 504.2, 335.3258426966292, 245.42424242424244, 360.67359050445106, 1303.4140350877192, 85.52730696798493, 259.72727272727275, 3583.246153846154, 2000.6896551724137, 227.13144329896906, 200.34375, 274.3095238095238, 4886.673469387755, 1896.6984126984128, 178.3815028901734, 1499.2676056338028, 378.8412698412698, 13857.25, 457.7293729372937, 1628.1965317919075, 48.0, 2111.3333333333335, 164.93928571428572, 164.0, 257.8536585365854, 189.98520084566596, 17.0, 174.21428571428572, 202.58823529411765, 243.5027027027027, 665.7232142857143, 213.01680672268907, 134.8120649651972, 187.32929782082326, 423.66141732283467, 820.4971428571429, 707.243137254902, 154.74952919020717, 58543.0, 95.0, 1292.655844155844, 168.88590604026845, 179.9047619047619, 2467.723404255319, 178.83495145631068], \"yaxis\": \"y\"}, {\"alignmentgroup\": \"True\", \"hoverlabel\": {\"namelength\": 0}, \"hovertemplate\": \"Activity=W_Filling in information for the application<br>Resource=%{x}<br>Duration(s)=%{y}\", \"legendgroup\": \"Activity=W_Filling in information for the application\", \"marker\": {\"color\": \"#00cc96\"}, \"name\": \"Activity=W_Filling in information for the application\", \"offsetgroup\": \"Activity=W_Filling in information for the application\", \"orientation\": \"v\", \"showlegend\": true, \"textposition\": \"auto\", \"type\": \"bar\", \"x\": [\"r_10124\", \"r_10138\", \"r_10228\", \"r_10609\", \"r_10629\", \"r_10779\", \"r_10809\", \"r_10861\", \"r_10863\", \"r_10881\", \"r_10889\", \"r_10899\", \"r_10909\", \"r_10910\", \"r_10912\", \"r_10913\", \"r_10914\", \"r_10929\", \"r_10931\", \"r_10932\", \"r_10933\", \"r_10935\", \"r_10939\", \"r_10972\", \"r_10982\", \"r_11000\", \"r_11001\", \"r_11002\", \"r_11003\", \"r_11009\", \"r_11019\", \"r_11049\", \"r_11079\", \"r_11119\", \"r_11121\", \"r_11122\", \"r_11169\", \"r_11179\", \"r_11180\", \"r_11181\", \"r_11189\", \"r_11201\", \"r_11203\", \"r_11254\", \"r_11259\", \"r_11289\", \"r_11299\", \"r_11300\", \"r_11302\", \"r_11309\", \"r_11319\"], \"xaxis\": \"x\", \"y\": [389.0, 483.3333333333333, 7261.722222222223, 87.375, 511.0, 238.64705882352942, 575.2, 268.3751724137931, 325.3254901960784, 257.46311475409834, 426.13529411764705, 94.66666666666667, 391.28018223234625, 1308.0273037542663, 1516.2316602316603, 364.28372093023256, 3076.8947368421054, 484.1453744493392, 423.76785714285717, 1191.8212290502793, 474.56617647058823, 870.5416666666666, 380.3954802259887, 294.0, 295.42056074766356, 401.662447257384, 389.0, 1775.3963963963963, 247.1116883116883, 996.9215686274509, 432.60481927710845, 159.625, 53878.0, 471.501953125, 685.7406340057637, 435.4852652259332, 1687.827302631579, 772.3762781186094, 274.5871964679912, 426.633064516129, 495.5990566037736, 302.69083969465646, 662.4276422764227, 34006.0, 877.0, 110.0, 742.8461538461538, 372.620320855615, 279.4008097165992, 286.4918918918919, 672.1428571428571], \"yaxis\": \"y\"}, {\"alignmentgroup\": \"True\", \"hoverlabel\": {\"namelength\": 0}, \"hovertemplate\": \"Activity=W_Fixing incoming lead<br>Resource=%{x}<br>Duration(s)=%{y}\", \"legendgroup\": \"Activity=W_Fixing incoming lead\", \"marker\": {\"color\": \"#ab63fa\"}, \"name\": \"Activity=W_Fixing incoming lead\", \"offsetgroup\": \"Activity=W_Fixing incoming lead\", \"orientation\": \"v\", \"showlegend\": true, \"textposition\": \"auto\", \"type\": \"bar\", \"x\": [\"r_10124\", \"r_10138\", \"r_10228\", \"r_10609\", \"r_10629\", \"r_10779\", \"r_10809\", \"r_10861\", \"r_10863\", \"r_10881\", \"r_10889\", \"r_10909\", \"r_10910\", \"r_10912\", \"r_10913\", \"r_10914\", \"r_10929\", \"r_10931\", \"r_10932\", \"r_10933\", \"r_10935\", \"r_10939\", \"r_10972\", \"r_10982\", \"r_11000\", \"r_11001\", \"r_11002\", \"r_11003\", \"r_11009\", \"r_11019\", \"r_11079\", \"r_11119\", \"r_11121\", \"r_11122\", \"r_11169\", \"r_11179\", \"r_11180\", \"r_11181\", \"r_11189\", \"r_11201\", \"r_11203\", \"r_11259\", \"r_11269\", \"r_11299\", \"r_11302\", \"r_11319\"], \"xaxis\": \"x\", \"y\": [12.0, 883.0, 328.12987012987014, 215.0, 136.1206896551724, 270.5, 112.42857142857143, 2129.3071895424837, 745.6233766233767, 93.35658914728683, 727.4233128834355, 174.26, 1413.5878962536024, 176.34722222222223, 362.4492753623188, 270.0, 1257.8823529411766, 368.0169491525424, 7886.218085106383, 481.86, 993.016129032258, 131.4033613445378, 157.0, 153.7560975609756, 1908.62, 135.3684210526316, 657.9285714285714, 110.26451612903226, 276.5838926174497, 164.83333333333334, 9.0, 111.35087719298245, 815.5978260869565, 179.92028985507247, 652.5798525798526, 2074.2957746478874, 219.38983050847457, 104.47887323943662, 241.53900709219857, 2345.9302325581393, 1232.0833333333333, 161.75, 58921.0, 400.0, 1953.8333333333333, 97.0], \"yaxis\": \"y\"}, {\"alignmentgroup\": \"True\", \"hoverlabel\": {\"namelength\": 0}, \"hovertemplate\": \"Activity=W_Calling to add missing information to the application<br>Resource=%{x}<br>Duration(s)=%{y}\", \"legendgroup\": \"Activity=W_Calling to add missing information to the application\", \"marker\": {\"color\": \"#FFA15A\"}, \"name\": \"Activity=W_Calling to add missing information to the application\", \"offsetgroup\": \"Activity=W_Calling to add missing information to the application\", \"orientation\": \"v\", \"showlegend\": true, \"textposition\": \"auto\", \"type\": \"bar\", \"x\": [\"r_10138\", \"r_10228\", \"r_10609\", \"r_10629\", \"r_10789\", \"r_10809\", \"r_10861\", \"r_10863\", \"r_10881\", \"r_10889\", \"r_10899\", \"r_10909\", \"r_10910\", \"r_10912\", \"r_10913\", \"r_10914\", \"r_10929\", \"r_10931\", \"r_10932\", \"r_10933\", \"r_10935\", \"r_10939\", \"r_10972\", \"r_10982\", \"r_11000\", \"r_11002\", \"r_11003\", \"r_11009\", \"r_11019\", \"r_11049\", \"r_11079\", \"r_11119\", \"r_11121\", \"r_11122\", \"r_11169\", \"r_11179\", \"r_11180\", \"r_11181\", \"r_11189\", \"r_11201\", \"r_11203\", \"r_11259\", \"r_11289\", \"r_11299\", \"r_11300\", \"r_11302\", \"r_11309\", \"r_11319\", \"r_11339\"], \"xaxis\": \"x\", \"y\": [172.37179487179486, 11755.0, 249.79651162790697, 274.5409836065574, 81.39622641509433, 362.75, 293.8467741935484, 480.1136363636364, 256.910447761194, 408.26666666666665, 62.14545454545455, 416.537037037037, 756.8198198198198, 321.81333333333333, 981.4958217270195, 880.3181818181819, 388.953125, 520.820895522388, 4112.198581560284, 879.5357142857143, 3315.5, 280.46153846153845, 1703.5487804878048, 464.4070351758794, 403.6607142857143, 5382.03, 249.2058823529412, 458.70588235294116, 1859.857142857143, 108.74178403755869, 211.0, 492.66279069767444, 1805.4, 347.4597701149425, 1617.519298245614, 482.31111111111113, 398.19417475728153, 345.54152823920265, 426.9529411764706, 2464.4285714285716, 319.7894736842105, 685.6294820717131, 106.61702127659575, 105.0, 123.2, 445.6, 421.4, 397.5, 121.0], \"yaxis\": \"y\"}, {\"alignmentgroup\": \"True\", \"hoverlabel\": {\"namelength\": 0}, \"hovertemplate\": \"Activity=W_Evaluate fraud<br>Resource=%{x}<br>Duration(s)=%{y}\", \"legendgroup\": \"Activity=W_Evaluate fraud\", \"marker\": {\"color\": \"#19d3f3\"}, \"name\": \"Activity=W_Evaluate fraud\", \"offsetgroup\": \"Activity=W_Evaluate fraud\", \"orientation\": \"v\", \"showlegend\": true, \"textposition\": \"auto\", \"type\": \"bar\", \"x\": [\"r_10188\", \"r_10779\", \"r_10809\", \"r_11304\", \"r_11339\"], \"xaxis\": \"x\", \"y\": [80.51136363636364, 16.0, 33.0, 7038.0, 4.0], \"yaxis\": \"y\"}],\n",
              "                        {\"barmode\": \"group\", \"height\": 400, \"legend\": {\"tracegroupgap\": 0}, \"margin\": {\"t\": 60}, \"template\": {\"data\": {\"bar\": [{\"error_x\": {\"color\": \"#2a3f5f\"}, \"error_y\": {\"color\": \"#2a3f5f\"}, \"marker\": {\"line\": {\"color\": \"white\", \"width\": 0.5}}, \"type\": \"bar\"}], \"barpolar\": [{\"marker\": {\"line\": {\"color\": \"white\", \"width\": 0.5}}, \"type\": \"barpolar\"}], \"carpet\": [{\"aaxis\": {\"endlinecolor\": \"#2a3f5f\", \"gridcolor\": \"#C8D4E3\", \"linecolor\": \"#C8D4E3\", \"minorgridcolor\": \"#C8D4E3\", \"startlinecolor\": \"#2a3f5f\"}, \"baxis\": {\"endlinecolor\": \"#2a3f5f\", \"gridcolor\": \"#C8D4E3\", \"linecolor\": \"#C8D4E3\", \"minorgridcolor\": \"#C8D4E3\", \"startlinecolor\": \"#2a3f5f\"}, \"type\": \"carpet\"}], \"choropleth\": [{\"colorbar\": {\"outlinewidth\": 0, \"ticks\": \"\"}, \"type\": \"choropleth\"}], \"contour\": [{\"colorbar\": {\"outlinewidth\": 0, \"ticks\": \"\"}, \"colorscale\": [[0.0, \"#0d0887\"], [0.1111111111111111, \"#46039f\"], [0.2222222222222222, \"#7201a8\"], [0.3333333333333333, \"#9c179e\"], [0.4444444444444444, \"#bd3786\"], [0.5555555555555556, \"#d8576b\"], [0.6666666666666666, \"#ed7953\"], [0.7777777777777778, \"#fb9f3a\"], [0.8888888888888888, \"#fdca26\"], [1.0, \"#f0f921\"]], \"type\": \"contour\"}], \"contourcarpet\": [{\"colorbar\": {\"outlinewidth\": 0, \"ticks\": \"\"}, \"type\": \"contourcarpet\"}], \"heatmap\": [{\"colorbar\": {\"outlinewidth\": 0, \"ticks\": \"\"}, \"colorscale\": [[0.0, \"#0d0887\"], [0.1111111111111111, \"#46039f\"], [0.2222222222222222, \"#7201a8\"], [0.3333333333333333, \"#9c179e\"], [0.4444444444444444, \"#bd3786\"], [0.5555555555555556, \"#d8576b\"], [0.6666666666666666, \"#ed7953\"], [0.7777777777777778, \"#fb9f3a\"], [0.8888888888888888, \"#fdca26\"], [1.0, \"#f0f921\"]], \"type\": \"heatmap\"}], \"heatmapgl\": [{\"colorbar\": {\"outlinewidth\": 0, \"ticks\": \"\"}, \"colorscale\": [[0.0, \"#0d0887\"], [0.1111111111111111, \"#46039f\"], [0.2222222222222222, \"#7201a8\"], [0.3333333333333333, \"#9c179e\"], [0.4444444444444444, \"#bd3786\"], [0.5555555555555556, \"#d8576b\"], [0.6666666666666666, \"#ed7953\"], [0.7777777777777778, \"#fb9f3a\"], [0.8888888888888888, \"#fdca26\"], [1.0, \"#f0f921\"]], \"type\": \"heatmapgl\"}], \"histogram\": [{\"marker\": {\"colorbar\": {\"outlinewidth\": 0, \"ticks\": \"\"}}, \"type\": \"histogram\"}], \"histogram2d\": [{\"colorbar\": {\"outlinewidth\": 0, \"ticks\": \"\"}, \"colorscale\": [[0.0, \"#0d0887\"], [0.1111111111111111, \"#46039f\"], [0.2222222222222222, \"#7201a8\"], [0.3333333333333333, \"#9c179e\"], [0.4444444444444444, \"#bd3786\"], [0.5555555555555556, \"#d8576b\"], [0.6666666666666666, \"#ed7953\"], [0.7777777777777778, \"#fb9f3a\"], [0.8888888888888888, \"#fdca26\"], [1.0, \"#f0f921\"]], \"type\": \"histogram2d\"}], \"histogram2dcontour\": [{\"colorbar\": {\"outlinewidth\": 0, \"ticks\": \"\"}, \"colorscale\": [[0.0, \"#0d0887\"], [0.1111111111111111, \"#46039f\"], [0.2222222222222222, \"#7201a8\"], [0.3333333333333333, \"#9c179e\"], [0.4444444444444444, \"#bd3786\"], [0.5555555555555556, \"#d8576b\"], [0.6666666666666666, \"#ed7953\"], [0.7777777777777778, \"#fb9f3a\"], [0.8888888888888888, \"#fdca26\"], [1.0, \"#f0f921\"]], \"type\": \"histogram2dcontour\"}], \"mesh3d\": [{\"colorbar\": {\"outlinewidth\": 0, \"ticks\": \"\"}, \"type\": \"mesh3d\"}], \"parcoords\": [{\"line\": {\"colorbar\": {\"outlinewidth\": 0, \"ticks\": \"\"}}, \"type\": \"parcoords\"}], \"pie\": [{\"automargin\": true, \"type\": \"pie\"}], \"scatter\": [{\"marker\": {\"colorbar\": {\"outlinewidth\": 0, \"ticks\": \"\"}}, \"type\": \"scatter\"}], \"scatter3d\": [{\"line\": {\"colorbar\": {\"outlinewidth\": 0, \"ticks\": \"\"}}, \"marker\": {\"colorbar\": {\"outlinewidth\": 0, \"ticks\": \"\"}}, \"type\": \"scatter3d\"}], \"scattercarpet\": [{\"marker\": {\"colorbar\": {\"outlinewidth\": 0, \"ticks\": \"\"}}, \"type\": \"scattercarpet\"}], \"scattergeo\": [{\"marker\": {\"colorbar\": {\"outlinewidth\": 0, \"ticks\": \"\"}}, \"type\": \"scattergeo\"}], \"scattergl\": [{\"marker\": {\"colorbar\": {\"outlinewidth\": 0, \"ticks\": \"\"}}, \"type\": \"scattergl\"}], \"scattermapbox\": [{\"marker\": {\"colorbar\": {\"outlinewidth\": 0, \"ticks\": \"\"}}, \"type\": \"scattermapbox\"}], \"scatterpolar\": [{\"marker\": {\"colorbar\": {\"outlinewidth\": 0, \"ticks\": \"\"}}, \"type\": \"scatterpolar\"}], \"scatterpolargl\": [{\"marker\": {\"colorbar\": {\"outlinewidth\": 0, \"ticks\": \"\"}}, \"type\": \"scatterpolargl\"}], \"scatterternary\": [{\"marker\": {\"colorbar\": {\"outlinewidth\": 0, \"ticks\": \"\"}}, \"type\": \"scatterternary\"}], \"surface\": [{\"colorbar\": {\"outlinewidth\": 0, \"ticks\": \"\"}, \"colorscale\": [[0.0, \"#0d0887\"], [0.1111111111111111, \"#46039f\"], [0.2222222222222222, \"#7201a8\"], [0.3333333333333333, \"#9c179e\"], [0.4444444444444444, \"#bd3786\"], [0.5555555555555556, \"#d8576b\"], [0.6666666666666666, \"#ed7953\"], [0.7777777777777778, \"#fb9f3a\"], [0.8888888888888888, \"#fdca26\"], [1.0, \"#f0f921\"]], \"type\": \"surface\"}], \"table\": [{\"cells\": {\"fill\": {\"color\": \"#EBF0F8\"}, \"line\": {\"color\": \"white\"}}, \"header\": {\"fill\": {\"color\": \"#C8D4E3\"}, \"line\": {\"color\": \"white\"}}, \"type\": \"table\"}]}, \"layout\": {\"annotationdefaults\": {\"arrowcolor\": \"#2a3f5f\", \"arrowhead\": 0, \"arrowwidth\": 1}, \"coloraxis\": {\"colorbar\": {\"outlinewidth\": 0, \"ticks\": \"\"}}, \"colorscale\": {\"diverging\": [[0, \"#8e0152\"], [0.1, \"#c51b7d\"], [0.2, \"#de77ae\"], [0.3, \"#f1b6da\"], [0.4, \"#fde0ef\"], [0.5, \"#f7f7f7\"], [0.6, \"#e6f5d0\"], [0.7, \"#b8e186\"], [0.8, \"#7fbc41\"], [0.9, \"#4d9221\"], [1, \"#276419\"]], \"sequential\": [[0.0, \"#0d0887\"], [0.1111111111111111, \"#46039f\"], [0.2222222222222222, \"#7201a8\"], [0.3333333333333333, \"#9c179e\"], [0.4444444444444444, \"#bd3786\"], [0.5555555555555556, \"#d8576b\"], [0.6666666666666666, \"#ed7953\"], [0.7777777777777778, \"#fb9f3a\"], [0.8888888888888888, \"#fdca26\"], [1.0, \"#f0f921\"]], \"sequentialminus\": [[0.0, \"#0d0887\"], [0.1111111111111111, \"#46039f\"], [0.2222222222222222, \"#7201a8\"], [0.3333333333333333, \"#9c179e\"], [0.4444444444444444, \"#bd3786\"], [0.5555555555555556, \"#d8576b\"], [0.6666666666666666, \"#ed7953\"], [0.7777777777777778, \"#fb9f3a\"], [0.8888888888888888, \"#fdca26\"], [1.0, \"#f0f921\"]]}, \"colorway\": [\"#636efa\", \"#EF553B\", \"#00cc96\", \"#ab63fa\", \"#FFA15A\", \"#19d3f3\", \"#FF6692\", \"#B6E880\", \"#FF97FF\", \"#FECB52\"], \"font\": {\"color\": \"#2a3f5f\"}, \"geo\": {\"bgcolor\": \"white\", \"lakecolor\": \"white\", \"landcolor\": \"white\", \"showlakes\": true, \"showland\": true, \"subunitcolor\": \"#C8D4E3\"}, \"hoverlabel\": {\"align\": \"left\"}, \"hovermode\": \"closest\", \"mapbox\": {\"style\": \"light\"}, \"paper_bgcolor\": \"white\", \"plot_bgcolor\": \"white\", \"polar\": {\"angularaxis\": {\"gridcolor\": \"#EBF0F8\", \"linecolor\": \"#EBF0F8\", \"ticks\": \"\"}, \"bgcolor\": \"white\", \"radialaxis\": {\"gridcolor\": \"#EBF0F8\", \"linecolor\": \"#EBF0F8\", \"ticks\": \"\"}}, \"scene\": {\"xaxis\": {\"backgroundcolor\": \"white\", \"gridcolor\": \"#DFE8F3\", \"gridwidth\": 2, \"linecolor\": \"#EBF0F8\", \"showbackground\": true, \"ticks\": \"\", \"zerolinecolor\": \"#EBF0F8\"}, \"yaxis\": {\"backgroundcolor\": \"white\", \"gridcolor\": \"#DFE8F3\", \"gridwidth\": 2, \"linecolor\": \"#EBF0F8\", \"showbackground\": true, \"ticks\": \"\", \"zerolinecolor\": \"#EBF0F8\"}, \"zaxis\": {\"backgroundcolor\": \"white\", \"gridcolor\": \"#DFE8F3\", \"gridwidth\": 2, \"linecolor\": \"#EBF0F8\", \"showbackground\": true, \"ticks\": \"\", \"zerolinecolor\": \"#EBF0F8\"}}, \"shapedefaults\": {\"line\": {\"color\": \"#2a3f5f\"}}, \"ternary\": {\"aaxis\": {\"gridcolor\": \"#DFE8F3\", \"linecolor\": \"#A2B1C6\", \"ticks\": \"\"}, \"baxis\": {\"gridcolor\": \"#DFE8F3\", \"linecolor\": \"#A2B1C6\", \"ticks\": \"\"}, \"bgcolor\": \"white\", \"caxis\": {\"gridcolor\": \"#DFE8F3\", \"linecolor\": \"#A2B1C6\", \"ticks\": \"\"}}, \"title\": {\"x\": 0.05}, \"xaxis\": {\"automargin\": true, \"gridcolor\": \"#EBF0F8\", \"linecolor\": \"#EBF0F8\", \"ticks\": \"\", \"title\": {\"standoff\": 15}, \"zerolinecolor\": \"#EBF0F8\", \"zerolinewidth\": 2}, \"yaxis\": {\"automargin\": true, \"gridcolor\": \"#EBF0F8\", \"linecolor\": \"#EBF0F8\", \"ticks\": \"\", \"title\": {\"standoff\": 15}, \"zerolinecolor\": \"#EBF0F8\", \"zerolinewidth\": 2}}}, \"width\": 1200, \"xaxis\": {\"anchor\": \"y\", \"domain\": [0.0, 1.0], \"title\": {\"text\": \"Resource\"}}, \"yaxis\": {\"anchor\": \"x\", \"domain\": [0.0, 1.0], \"title\": {\"text\": \"Duration(s)\"}}},\n",
              "                        {\"responsive\": true}\n",
              "                    ).then(function(){\n",
              "                            \n",
              "var gd = document.getElementById('5ba4d37f-70c8-4e69-870f-155b7a499fb3');\n",
              "var x = new MutationObserver(function (mutations, observer) {{\n",
              "        var display = window.getComputedStyle(gd).display;\n",
              "        if (!display || display === 'none') {{\n",
              "            console.log([gd, 'removed!']);\n",
              "            Plotly.purge(gd);\n",
              "            observer.disconnect();\n",
              "        }}\n",
              "}});\n",
              "\n",
              "// Listen for the removal of the full notebook cells\n",
              "var notebookContainer = gd.closest('#notebook-container');\n",
              "if (notebookContainer) {{\n",
              "    x.observe(notebookContainer, {childList: true});\n",
              "}}\n",
              "\n",
              "// Listen for the clearing of the current output cell\n",
              "var outputEl = gd.closest('.output');\n",
              "if (outputEl) {{\n",
              "    x.observe(outputEl, {childList: true});\n",
              "}}\n",
              "\n",
              "                        })\n",
              "                };\n",
              "                \n",
              "            </script>\n",
              "        </div>\n",
              "</body>\n",
              "</html>"
            ]
          },
          "metadata": {
            "tags": []
          }
        }
      ]
    },
    {
      "cell_type": "markdown",
      "metadata": {
        "id": "W2pQMhjAsjmk"
      },
      "source": [
        "# Salvar conjunto de dados final"
      ]
    },
    {
      "cell_type": "code",
      "metadata": {
        "colab": {
          "base_uri": "https://localhost:8080/",
          "height": 17
        },
        "id": "HbLC4cV46mRX",
        "outputId": "3ab56959-c800-45d2-9915-8a8cf285b20b"
      },
      "source": [
        "data_final.to_csv('bpi12_preprocessed.csv',index=False)\n",
        "from google.colab import files\n",
        "files.download('bpi12_preprocessed.csv') "
      ],
      "execution_count": null,
      "outputs": [
        {
          "output_type": "display_data",
          "data": {
            "application/javascript": [
              "\n",
              "    async function download(id, filename, size) {\n",
              "      if (!google.colab.kernel.accessAllowed) {\n",
              "        return;\n",
              "      }\n",
              "      const div = document.createElement('div');\n",
              "      const label = document.createElement('label');\n",
              "      label.textContent = `Downloading \"${filename}\": `;\n",
              "      div.appendChild(label);\n",
              "      const progress = document.createElement('progress');\n",
              "      progress.max = size;\n",
              "      div.appendChild(progress);\n",
              "      document.body.appendChild(div);\n",
              "\n",
              "      const buffers = [];\n",
              "      let downloaded = 0;\n",
              "\n",
              "      const channel = await google.colab.kernel.comms.open(id);\n",
              "      // Send a message to notify the kernel that we're ready.\n",
              "      channel.send({})\n",
              "\n",
              "      for await (const message of channel.messages) {\n",
              "        // Send a message to notify the kernel that we're ready.\n",
              "        channel.send({})\n",
              "        if (message.buffers) {\n",
              "          for (const buffer of message.buffers) {\n",
              "            buffers.push(buffer);\n",
              "            downloaded += buffer.byteLength;\n",
              "            progress.value = downloaded;\n",
              "          }\n",
              "        }\n",
              "      }\n",
              "      const blob = new Blob(buffers, {type: 'application/binary'});\n",
              "      const a = document.createElement('a');\n",
              "      a.href = window.URL.createObjectURL(blob);\n",
              "      a.download = filename;\n",
              "      div.appendChild(a);\n",
              "      a.click();\n",
              "      div.remove();\n",
              "    }\n",
              "  "
            ],
            "text/plain": [
              "<IPython.core.display.Javascript object>"
            ]
          },
          "metadata": {
            "tags": []
          }
        },
        {
          "output_type": "display_data",
          "data": {
            "application/javascript": [
              "download(\"download_5908ca4d-6b61-4cfb-a357-6fb5fc75b0e0\", \"bpi12_preprocessed.csv\", 31756438)"
            ],
            "text/plain": [
              "<IPython.core.display.Javascript object>"
            ]
          },
          "metadata": {
            "tags": []
          }
        }
      ]
    }
  ]
}